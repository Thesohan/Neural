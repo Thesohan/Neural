{
  "nbformat": 4,
  "nbformat_minor": 0,
  "metadata": {
    "colab": {
      "name": "firstFilter.ipynb",
      "version": "0.3.2",
      "provenance": [],
      "private_outputs": true,
      "include_colab_link": true
    },
    "kernelspec": {
      "name": "python3",
      "display_name": "Python 3"
    }
  },
  "cells": [
    {
      "cell_type": "markdown",
      "metadata": {
        "id": "view-in-github",
        "colab_type": "text"
      },
      "source": [
        "<a href=\"https://colab.research.google.com/github/Thesohan/Neural/blob/master/firstFilter.ipynb\" target=\"_parent\"><img src=\"https://colab.research.google.com/assets/colab-badge.svg\" alt=\"Open In Colab\"/></a>"
      ]
    },
    {
      "metadata": {
        "id": "CpmPxrIqHXf5",
        "colab_type": "code",
        "colab": {}
      },
      "cell_type": "code",
      "source": [
        "from google.colab import drive\n",
        "drive.mount('/content/drive')\n",
        "# from keras.layers import Conv2D, UpSampling2D, InputLayer, Conv2DTranspose\n",
        "# from keras.layers import Activation, Dense, Dropout, Flatten\n",
        "# from keras.layers.normalization import BatchNormalization\n",
        "# from keras.models import Sequential\n",
        "# from keras.preprocessing.image import ImageDataGenerator, array_to_img, img_to_array, load_img\n",
        "# from skimage.color import rgb2lab, lab2rgb, rgb2gray, xyz2lab\n",
        "# from skimage.io import imsave\n",
        "# import numpy as np\n",
        "# import os\n",
        "# import random\n",
        "# import tensorflow as tf"
      ],
      "execution_count": 0,
      "outputs": []
    },
    {
      "metadata": {
        "id": "7MTnjE9FHjE_",
        "colab_type": "code",
        "colab": {}
      },
      "cell_type": "code",
      "source": [
        "image = img_to_array(load_img('drive/My Drive/minor_project/woman.jpg'))\n",
        "image = np.array(image, dtype=float)\n",
        "X = rgb2lab(1.0/255*image)[:,:,0]\n",
        "Y = rgb2lab(1.0/255*image)[:,:,1:]\n",
        "Y /= 128\n",
        "X = X.reshape(1, 400, 400, 1)\n",
        "Y = Y.reshape(1, 400, 400, 2)\n",
        "\n",
        "import cv2\n",
        "import numpy as np\n",
        "from matplotlib import pyplot as plt\n",
        "img = cv2.imread('drive/My Drive/Neural/saltandpeppernoise.jpg',)\n",
        "image = np.array(image, dtype=float)\n",
        "X = rgb2lab(1.0/255*image)[:,:,0]\n",
        "Y = rgb2lab(1.0/255*image)[:,:,1:]\n",
        "Y /= 128\n",
        "X = X.reshape(1, 400, 400, 1)\n",
        "Y = Y.reshape(1, 400, 400, 2)\n",
        "print(img)\n",
        "gray=img[:,:,1]\n",
        "# plt.imshow(img)\n",
        "kernel = np.ones((5,5),np.float32)/25\n",
        "dst = cv2.filter2D(img,-1,kernel)\n",
        "plt.subplot(121)\n",
        "plt.imshow(img)\n",
        "plt.title('Original')\n",
        "plt.xticks([]), plt.yticks([])\n",
        "plt.subplot(122),plt.imshow(dst),plt.title('Averaging')\n",
        "plt.xticks([]), plt.yticks([])\n",
        "plt.show()\n",
        "\n",
        "\n",
        "\n",
        "\n"
      ],
      "execution_count": 0,
      "outputs": []
    }
  ]
}